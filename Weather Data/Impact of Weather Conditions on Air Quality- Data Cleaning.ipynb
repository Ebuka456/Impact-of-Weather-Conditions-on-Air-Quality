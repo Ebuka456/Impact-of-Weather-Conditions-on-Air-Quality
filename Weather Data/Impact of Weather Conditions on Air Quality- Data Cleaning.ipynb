{
 "cells": [
  {
   "cell_type": "markdown",
   "id": "28d3b9b6",
   "metadata": {},
   "source": [
    "# Impact of Weather Conditions on Air Quality - Data Wrangling\n",
    "\n",
    "## By Okonkwo Chukwuebuka Malcom"
   ]
  },
  {
   "cell_type": "markdown",
   "id": "290b286e",
   "metadata": {},
   "source": [
    "![](https://techcommunity.microsoft.com/t5/image/serverpage/image-id/433811i68D426D8793B6B4B/image-size/large?v=v2&px=999)"
   ]
  },
  {
   "cell_type": "markdown",
   "id": "6f61894e",
   "metadata": {},
   "source": [
    "."
   ]
  },
  {
   "cell_type": "markdown",
   "id": "607951a3",
   "metadata": {},
   "source": [
    "## INTRODUCTION"
   ]
  },
  {
   "cell_type": "markdown",
   "id": "f171937e",
   "metadata": {},
   "source": [
    "### Project Context\n",
    "A company in the environmental consulting industry is seeking to analyze the air quality in a specific city during hot and cold weather, during high-wind conditions and during precipitation. They are interested in making recommendations to the government and businesses in the region on how to mitigate the impact of weather conditions on air quality.  \n",
    "\n",
    " \n",
    "\n",
    "As a Data Analyst, you are expected to analyze the data provided, seek insights and make recommendations to achieve the set objectives.\n",
    "\n",
    "Additionally, kindly use this dataset to analyze the historical impact of weather conditions on air quality, and make predictions on air quality during specific weather conditions. This information could be used to inform emergency response plans and prepare for potential air quality issues.\n",
    "\n",
    "[Link to the Challenge](https://techcommunity.microsoft.com/t5/educator-developer-blog/data-analysis-challenge-impact-of-weather-conditions-on-air/ba-p/3719570?WT.mc_id=academic-00000-ooyinbooke)"
   ]
  },
  {
   "cell_type": "markdown",
   "id": "28b0f649",
   "metadata": {},
   "source": [
    "### Dataset Description \n",
    "\n",
    "The dataset contains 43824 rows and 13 columns abd the data time period is between Jan 1st, 2010 to Dec 31st, 2014. Missing data are denoted as NA.\n",
    "\n",
    "### Column Definition\n",
    "- No: row number\n",
    "- year: year of data in this row\n",
    "- month: month of data in this row\n",
    "- day: day of data in this row\n",
    "- hour: hour of data in this row\n",
    "- pm2.5: PM2.5 concentration (ug/m^3)\n",
    "- DEWP: Dew Point (â„ƒ)\n",
    "- TEMP: Temperature (â„ƒ)\n",
    "- PRES: Pressure (hPa)\n",
    "- cbwd: Combined wind direction\n",
    "- Iws: Cumulated wind speed (m/s)\n",
    "- Is: Cumulated hours of snow\n",
    "- Ir: Cumulated hours of rain"
   ]
  },
  {
   "cell_type": "markdown",
   "id": "3e3c4b08",
   "metadata": {},
   "source": [
    "."
   ]
  },
  {
   "cell_type": "markdown",
   "id": "789123d3",
   "metadata": {},
   "source": [
    "## IMPORTING LIBRARIES AND LOADING DATASETS"
   ]
  },
  {
   "cell_type": "markdown",
   "id": "f96419cc",
   "metadata": {},
   "source": [
    "This Project Wrangling & Analysis would be done using Python with the aid of some of its packages, which would be imported. The dataset is also loaded into a dataframe"
   ]
  },
  {
   "cell_type": "code",
   "execution_count": 25,
   "id": "0be97438",
   "metadata": {},
   "outputs": [],
   "source": [
    "# Importing the pyhton packages\n",
    "import numpy as np\n",
    "import pandas as pd\n",
    "import matplotlib.pyplot as plt\n",
    "import seaborn as sns \n",
    "import calendar\n",
    "from windrose import WindroseAxes\n",
    "\n",
    "import warnings\n",
    "warnings.filterwarnings('ignore')\n",
    "\n",
    "%matplotlib inline"
   ]
  },
  {
   "cell_type": "code",
   "execution_count": 26,
   "id": "3883788e",
   "metadata": {},
   "outputs": [
    {
     "name": "stdout",
     "output_type": "stream",
     "text": [
      "   No  year  month  day  hour  pm2.5  DEWP  TEMP    PRES cbwd    Iws  Is  Ir\n",
      "0   1  2010      1    1     0    NaN   -21 -11.0  1021.0   NW   1.79   0   0\n",
      "1   2  2010      1    1     1    NaN   -21 -12.0  1020.0   NW   4.92   0   0\n",
      "2   3  2010      1    1     2    NaN   -21 -11.0  1019.0   NW   6.71   0   0\n",
      "3   4  2010      1    1     3    NaN   -21 -14.0  1019.0   NW   9.84   0   0\n",
      "4   5  2010      1    1     4    NaN   -20 -12.0  1018.0   NW  12.97   0   0\n"
     ]
    }
   ],
   "source": [
    "# Loading the dataset into a dataframe\n",
    "weather = pd.read_csv(\"PRSA_data_2010.1.1-2014.12.31.csv\")\n",
    "\n",
    "#to display the first five rows \n",
    "print(weather.head())\n"
   ]
  },
  {
   "cell_type": "code",
   "execution_count": 27,
   "id": "65588c12",
   "metadata": {
    "scrolled": true
   },
   "outputs": [
    {
     "name": "stdout",
     "output_type": "stream",
     "text": [
      "(43824, 13)\n"
     ]
    }
   ],
   "source": [
    "# to confirm the shape of the data\n",
    "print(weather.shape)"
   ]
  },
  {
   "cell_type": "markdown",
   "id": "42ad05b6",
   "metadata": {},
   "source": [
    "."
   ]
  },
  {
   "cell_type": "markdown",
   "id": "51533079",
   "metadata": {},
   "source": [
    "## Data Wrangling\n",
    "\n",
    "This is going to be done in 2 major steps\n",
    "1. Assessing the Data\n",
    "2. Data Cleaning"
   ]
  },
  {
   "cell_type": "markdown",
   "id": "0c531e08",
   "metadata": {},
   "source": [
    " ### Assessing the Data\n",
    " \n",
    " This step requires visually examining or programmatically examining the data for data quality issues."
   ]
  },
  {
   "cell_type": "code",
   "execution_count": 28,
   "id": "1db0dab7",
   "metadata": {},
   "outputs": [
    {
     "name": "stdout",
     "output_type": "stream",
     "text": [
      "   No  year  month  day  hour  pm2.5  DEWP  TEMP    PRES cbwd    Iws  Is  Ir\n",
      "0   1  2010      1    1     0    NaN   -21 -11.0  1021.0   NW   1.79   0   0\n",
      "1   2  2010      1    1     1    NaN   -21 -12.0  1020.0   NW   4.92   0   0\n",
      "2   3  2010      1    1     2    NaN   -21 -11.0  1019.0   NW   6.71   0   0\n",
      "3   4  2010      1    1     3    NaN   -21 -14.0  1019.0   NW   9.84   0   0\n",
      "4   5  2010      1    1     4    NaN   -20 -12.0  1018.0   NW  12.97   0   0\n",
      "5   6  2010      1    1     5    NaN   -19 -10.0  1017.0   NW  16.10   0   0\n",
      "6   7  2010      1    1     6    NaN   -19  -9.0  1017.0   NW  19.23   0   0\n",
      "7   8  2010      1    1     7    NaN   -19  -9.0  1017.0   NW  21.02   0   0\n",
      "8   9  2010      1    1     8    NaN   -19  -9.0  1017.0   NW  24.15   0   0\n",
      "9  10  2010      1    1     9    NaN   -20  -8.0  1017.0   NW  27.28   0   0\n"
     ]
    }
   ],
   "source": [
    "# to observe the first 10 rows of the data\n",
    "print(weather.head(10))"
   ]
  },
  {
   "cell_type": "markdown",
   "id": "ad280a3d",
   "metadata": {},
   "source": [
    "**To check for duplicate records**"
   ]
  },
  {
   "cell_type": "code",
   "execution_count": 29,
   "id": "37464c2d",
   "metadata": {},
   "outputs": [
    {
     "name": "stdout",
     "output_type": "stream",
     "text": [
      "There are 0 duplicate records\n"
     ]
    }
   ],
   "source": [
    "# to print out the sum of duplicate rows in the data\n",
    "duplicate = sum(weather.duplicated())\n",
    "\n",
    "print(f'There are {duplicate} duplicate records')"
   ]
  },
  {
   "cell_type": "markdown",
   "id": "26a2220f",
   "metadata": {},
   "source": [
    "**To check the data types of the columns**"
   ]
  },
  {
   "cell_type": "code",
   "execution_count": 30,
   "id": "6072f805",
   "metadata": {},
   "outputs": [
    {
     "data": {
      "text/plain": [
       "No         int64\n",
       "year       int64\n",
       "month      int64\n",
       "day        int64\n",
       "hour       int64\n",
       "pm2.5    float64\n",
       "DEWP       int64\n",
       "TEMP     float64\n",
       "PRES     float64\n",
       "cbwd      object\n",
       "Iws      float64\n",
       "Is         int64\n",
       "Ir         int64\n",
       "dtype: object"
      ]
     },
     "execution_count": 30,
     "metadata": {},
     "output_type": "execute_result"
    }
   ],
   "source": [
    "weather.dtypes"
   ]
  },
  {
   "cell_type": "markdown",
   "id": "299166e8",
   "metadata": {},
   "source": [
    "**To get the information about the Dataframe**"
   ]
  },
  {
   "cell_type": "code",
   "execution_count": 31,
   "id": "d3a0e695",
   "metadata": {},
   "outputs": [
    {
     "name": "stdout",
     "output_type": "stream",
     "text": [
      "<class 'pandas.core.frame.DataFrame'>\n",
      "RangeIndex: 43824 entries, 0 to 43823\n",
      "Data columns (total 13 columns):\n",
      " #   Column  Non-Null Count  Dtype  \n",
      "---  ------  --------------  -----  \n",
      " 0   No      43824 non-null  int64  \n",
      " 1   year    43824 non-null  int64  \n",
      " 2   month   43824 non-null  int64  \n",
      " 3   day     43824 non-null  int64  \n",
      " 4   hour    43824 non-null  int64  \n",
      " 5   pm2.5   41757 non-null  float64\n",
      " 6   DEWP    43824 non-null  int64  \n",
      " 7   TEMP    43824 non-null  float64\n",
      " 8   PRES    43824 non-null  float64\n",
      " 9   cbwd    43824 non-null  object \n",
      " 10  Iws     43824 non-null  float64\n",
      " 11  Is      43824 non-null  int64  \n",
      " 12  Ir      43824 non-null  int64  \n",
      "dtypes: float64(4), int64(8), object(1)\n",
      "memory usage: 4.3+ MB\n"
     ]
    }
   ],
   "source": [
    "weather.info()"
   ]
  },
  {
   "cell_type": "markdown",
   "id": "d3a9a37d",
   "metadata": {},
   "source": [
    "**To Check the fields for null values**"
   ]
  },
  {
   "cell_type": "code",
   "execution_count": 32,
   "id": "4da0a867",
   "metadata": {},
   "outputs": [
    {
     "name": "stdout",
     "output_type": "stream",
     "text": [
      "The columns with null values are ['pm2.5']\n"
     ]
    }
   ],
   "source": [
    "null_columns = weather.columns[weather.isnull().any()]\n",
    "\n",
    "print(f'The columns with null values are {list(null_columns)}')"
   ]
  },
  {
   "cell_type": "markdown",
   "id": "63b424f1",
   "metadata": {},
   "source": [
    "**To observe random samples of the data**"
   ]
  },
  {
   "cell_type": "code",
   "execution_count": 33,
   "id": "8bcd4458",
   "metadata": {},
   "outputs": [
    {
     "data": {
      "text/html": [
       "<div>\n",
       "<style scoped>\n",
       "    .dataframe tbody tr th:only-of-type {\n",
       "        vertical-align: middle;\n",
       "    }\n",
       "\n",
       "    .dataframe tbody tr th {\n",
       "        vertical-align: top;\n",
       "    }\n",
       "\n",
       "    .dataframe thead th {\n",
       "        text-align: right;\n",
       "    }\n",
       "</style>\n",
       "<table border=\"1\" class=\"dataframe\">\n",
       "  <thead>\n",
       "    <tr style=\"text-align: right;\">\n",
       "      <th></th>\n",
       "      <th>No</th>\n",
       "      <th>year</th>\n",
       "      <th>month</th>\n",
       "      <th>day</th>\n",
       "      <th>hour</th>\n",
       "      <th>pm2.5</th>\n",
       "      <th>DEWP</th>\n",
       "      <th>TEMP</th>\n",
       "      <th>PRES</th>\n",
       "      <th>cbwd</th>\n",
       "      <th>Iws</th>\n",
       "      <th>Is</th>\n",
       "      <th>Ir</th>\n",
       "    </tr>\n",
       "  </thead>\n",
       "  <tbody>\n",
       "    <tr>\n",
       "      <th>12538</th>\n",
       "      <td>12539</td>\n",
       "      <td>2011</td>\n",
       "      <td>6</td>\n",
       "      <td>7</td>\n",
       "      <td>10</td>\n",
       "      <td>231.0</td>\n",
       "      <td>17</td>\n",
       "      <td>30.0</td>\n",
       "      <td>997.0</td>\n",
       "      <td>SE</td>\n",
       "      <td>3.58</td>\n",
       "      <td>0</td>\n",
       "      <td>0</td>\n",
       "    </tr>\n",
       "    <tr>\n",
       "      <th>18940</th>\n",
       "      <td>18941</td>\n",
       "      <td>2012</td>\n",
       "      <td>2</td>\n",
       "      <td>29</td>\n",
       "      <td>4</td>\n",
       "      <td>202.0</td>\n",
       "      <td>-8</td>\n",
       "      <td>-5.0</td>\n",
       "      <td>1020.0</td>\n",
       "      <td>SE</td>\n",
       "      <td>0.89</td>\n",
       "      <td>0</td>\n",
       "      <td>0</td>\n",
       "    </tr>\n",
       "    <tr>\n",
       "      <th>16898</th>\n",
       "      <td>16899</td>\n",
       "      <td>2011</td>\n",
       "      <td>12</td>\n",
       "      <td>6</td>\n",
       "      <td>2</td>\n",
       "      <td>247.0</td>\n",
       "      <td>0</td>\n",
       "      <td>0.0</td>\n",
       "      <td>1031.0</td>\n",
       "      <td>NW</td>\n",
       "      <td>5.37</td>\n",
       "      <td>5</td>\n",
       "      <td>0</td>\n",
       "    </tr>\n",
       "    <tr>\n",
       "      <th>31083</th>\n",
       "      <td>31084</td>\n",
       "      <td>2013</td>\n",
       "      <td>7</td>\n",
       "      <td>19</td>\n",
       "      <td>3</td>\n",
       "      <td>141.0</td>\n",
       "      <td>20</td>\n",
       "      <td>23.0</td>\n",
       "      <td>1002.0</td>\n",
       "      <td>cv</td>\n",
       "      <td>2.67</td>\n",
       "      <td>0</td>\n",
       "      <td>0</td>\n",
       "    </tr>\n",
       "    <tr>\n",
       "      <th>42632</th>\n",
       "      <td>42633</td>\n",
       "      <td>2014</td>\n",
       "      <td>11</td>\n",
       "      <td>12</td>\n",
       "      <td>8</td>\n",
       "      <td>4.0</td>\n",
       "      <td>-19</td>\n",
       "      <td>4.0</td>\n",
       "      <td>1026.0</td>\n",
       "      <td>NW</td>\n",
       "      <td>202.97</td>\n",
       "      <td>0</td>\n",
       "      <td>0</td>\n",
       "    </tr>\n",
       "    <tr>\n",
       "      <th>12454</th>\n",
       "      <td>12455</td>\n",
       "      <td>2011</td>\n",
       "      <td>6</td>\n",
       "      <td>3</td>\n",
       "      <td>22</td>\n",
       "      <td>45.0</td>\n",
       "      <td>5</td>\n",
       "      <td>26.0</td>\n",
       "      <td>1006.0</td>\n",
       "      <td>SE</td>\n",
       "      <td>9.39</td>\n",
       "      <td>0</td>\n",
       "      <td>0</td>\n",
       "    </tr>\n",
       "    <tr>\n",
       "      <th>29731</th>\n",
       "      <td>29732</td>\n",
       "      <td>2013</td>\n",
       "      <td>5</td>\n",
       "      <td>23</td>\n",
       "      <td>19</td>\n",
       "      <td>89.0</td>\n",
       "      <td>12</td>\n",
       "      <td>26.0</td>\n",
       "      <td>1007.0</td>\n",
       "      <td>SE</td>\n",
       "      <td>18.78</td>\n",
       "      <td>0</td>\n",
       "      <td>0</td>\n",
       "    </tr>\n",
       "    <tr>\n",
       "      <th>24431</th>\n",
       "      <td>24432</td>\n",
       "      <td>2012</td>\n",
       "      <td>10</td>\n",
       "      <td>14</td>\n",
       "      <td>23</td>\n",
       "      <td>109.0</td>\n",
       "      <td>7</td>\n",
       "      <td>14.0</td>\n",
       "      <td>1020.0</td>\n",
       "      <td>cv</td>\n",
       "      <td>64.08</td>\n",
       "      <td>0</td>\n",
       "      <td>0</td>\n",
       "    </tr>\n",
       "    <tr>\n",
       "      <th>11581</th>\n",
       "      <td>11582</td>\n",
       "      <td>2011</td>\n",
       "      <td>4</td>\n",
       "      <td>28</td>\n",
       "      <td>13</td>\n",
       "      <td>105.0</td>\n",
       "      <td>4</td>\n",
       "      <td>22.0</td>\n",
       "      <td>1005.0</td>\n",
       "      <td>SE</td>\n",
       "      <td>3.13</td>\n",
       "      <td>0</td>\n",
       "      <td>0</td>\n",
       "    </tr>\n",
       "    <tr>\n",
       "      <th>41735</th>\n",
       "      <td>41736</td>\n",
       "      <td>2014</td>\n",
       "      <td>10</td>\n",
       "      <td>5</td>\n",
       "      <td>23</td>\n",
       "      <td>34.0</td>\n",
       "      <td>4</td>\n",
       "      <td>13.0</td>\n",
       "      <td>1027.0</td>\n",
       "      <td>cv</td>\n",
       "      <td>0.89</td>\n",
       "      <td>0</td>\n",
       "      <td>0</td>\n",
       "    </tr>\n",
       "  </tbody>\n",
       "</table>\n",
       "</div>"
      ],
      "text/plain": [
       "          No  year  month  day  hour  pm2.5  DEWP  TEMP    PRES cbwd     Iws  \\\n",
       "12538  12539  2011      6    7    10  231.0    17  30.0   997.0   SE    3.58   \n",
       "18940  18941  2012      2   29     4  202.0    -8  -5.0  1020.0   SE    0.89   \n",
       "16898  16899  2011     12    6     2  247.0     0   0.0  1031.0   NW    5.37   \n",
       "31083  31084  2013      7   19     3  141.0    20  23.0  1002.0   cv    2.67   \n",
       "42632  42633  2014     11   12     8    4.0   -19   4.0  1026.0   NW  202.97   \n",
       "12454  12455  2011      6    3    22   45.0     5  26.0  1006.0   SE    9.39   \n",
       "29731  29732  2013      5   23    19   89.0    12  26.0  1007.0   SE   18.78   \n",
       "24431  24432  2012     10   14    23  109.0     7  14.0  1020.0   cv   64.08   \n",
       "11581  11582  2011      4   28    13  105.0     4  22.0  1005.0   SE    3.13   \n",
       "41735  41736  2014     10    5    23   34.0     4  13.0  1027.0   cv    0.89   \n",
       "\n",
       "       Is  Ir  \n",
       "12538   0   0  \n",
       "18940   0   0  \n",
       "16898   5   0  \n",
       "31083   0   0  \n",
       "42632   0   0  \n",
       "12454   0   0  \n",
       "29731   0   0  \n",
       "24431   0   0  \n",
       "11581   0   0  \n",
       "41735   0   0  "
      ]
     },
     "execution_count": 33,
     "metadata": {},
     "output_type": "execute_result"
    }
   ],
   "source": [
    "weather.sample(10)"
   ]
  },
  {
   "cell_type": "markdown",
   "id": "c0c87b8e",
   "metadata": {},
   "source": [
    "**To observe the Combined Wind Direction (cbwd) column**"
   ]
  },
  {
   "cell_type": "code",
   "execution_count": 34,
   "id": "52b1972f",
   "metadata": {},
   "outputs": [
    {
     "data": {
      "text/plain": [
       "array(['NW', 'cv', 'NE', 'SE'], dtype=object)"
      ]
     },
     "execution_count": 34,
     "metadata": {},
     "output_type": "execute_result"
    }
   ],
   "source": [
    "#checking for the unique values in the cbwd column\n",
    "weather['cbwd'].unique()"
   ]
  },
  {
   "cell_type": "markdown",
   "id": "263c7e98",
   "metadata": {},
   "source": [
    "**To check for the Descriptive Statistics of the columns** "
   ]
  },
  {
   "cell_type": "code",
   "execution_count": 35,
   "id": "1cc6f944",
   "metadata": {},
   "outputs": [
    {
     "data": {
      "text/html": [
       "<div>\n",
       "<style scoped>\n",
       "    .dataframe tbody tr th:only-of-type {\n",
       "        vertical-align: middle;\n",
       "    }\n",
       "\n",
       "    .dataframe tbody tr th {\n",
       "        vertical-align: top;\n",
       "    }\n",
       "\n",
       "    .dataframe thead th {\n",
       "        text-align: right;\n",
       "    }\n",
       "</style>\n",
       "<table border=\"1\" class=\"dataframe\">\n",
       "  <thead>\n",
       "    <tr style=\"text-align: right;\">\n",
       "      <th></th>\n",
       "      <th>No</th>\n",
       "      <th>year</th>\n",
       "      <th>month</th>\n",
       "      <th>day</th>\n",
       "      <th>hour</th>\n",
       "      <th>pm2.5</th>\n",
       "      <th>DEWP</th>\n",
       "      <th>TEMP</th>\n",
       "      <th>PRES</th>\n",
       "      <th>Iws</th>\n",
       "      <th>Is</th>\n",
       "      <th>Ir</th>\n",
       "    </tr>\n",
       "  </thead>\n",
       "  <tbody>\n",
       "    <tr>\n",
       "      <th>count</th>\n",
       "      <td>43824.000000</td>\n",
       "      <td>43824.000000</td>\n",
       "      <td>43824.000000</td>\n",
       "      <td>43824.000000</td>\n",
       "      <td>43824.000000</td>\n",
       "      <td>41757.000000</td>\n",
       "      <td>43824.000000</td>\n",
       "      <td>43824.000000</td>\n",
       "      <td>43824.000000</td>\n",
       "      <td>43824.000000</td>\n",
       "      <td>43824.000000</td>\n",
       "      <td>43824.000000</td>\n",
       "    </tr>\n",
       "    <tr>\n",
       "      <th>mean</th>\n",
       "      <td>21912.500000</td>\n",
       "      <td>2012.000000</td>\n",
       "      <td>6.523549</td>\n",
       "      <td>15.727820</td>\n",
       "      <td>11.500000</td>\n",
       "      <td>98.613215</td>\n",
       "      <td>1.817246</td>\n",
       "      <td>12.448521</td>\n",
       "      <td>1016.447654</td>\n",
       "      <td>23.889140</td>\n",
       "      <td>0.052734</td>\n",
       "      <td>0.194916</td>\n",
       "    </tr>\n",
       "    <tr>\n",
       "      <th>std</th>\n",
       "      <td>12651.043435</td>\n",
       "      <td>1.413842</td>\n",
       "      <td>3.448572</td>\n",
       "      <td>8.799425</td>\n",
       "      <td>6.922266</td>\n",
       "      <td>92.050387</td>\n",
       "      <td>14.433440</td>\n",
       "      <td>12.198613</td>\n",
       "      <td>10.268698</td>\n",
       "      <td>50.010635</td>\n",
       "      <td>0.760375</td>\n",
       "      <td>1.415867</td>\n",
       "    </tr>\n",
       "    <tr>\n",
       "      <th>min</th>\n",
       "      <td>1.000000</td>\n",
       "      <td>2010.000000</td>\n",
       "      <td>1.000000</td>\n",
       "      <td>1.000000</td>\n",
       "      <td>0.000000</td>\n",
       "      <td>0.000000</td>\n",
       "      <td>-40.000000</td>\n",
       "      <td>-19.000000</td>\n",
       "      <td>991.000000</td>\n",
       "      <td>0.450000</td>\n",
       "      <td>0.000000</td>\n",
       "      <td>0.000000</td>\n",
       "    </tr>\n",
       "    <tr>\n",
       "      <th>25%</th>\n",
       "      <td>10956.750000</td>\n",
       "      <td>2011.000000</td>\n",
       "      <td>4.000000</td>\n",
       "      <td>8.000000</td>\n",
       "      <td>5.750000</td>\n",
       "      <td>29.000000</td>\n",
       "      <td>-10.000000</td>\n",
       "      <td>2.000000</td>\n",
       "      <td>1008.000000</td>\n",
       "      <td>1.790000</td>\n",
       "      <td>0.000000</td>\n",
       "      <td>0.000000</td>\n",
       "    </tr>\n",
       "    <tr>\n",
       "      <th>50%</th>\n",
       "      <td>21912.500000</td>\n",
       "      <td>2012.000000</td>\n",
       "      <td>7.000000</td>\n",
       "      <td>16.000000</td>\n",
       "      <td>11.500000</td>\n",
       "      <td>72.000000</td>\n",
       "      <td>2.000000</td>\n",
       "      <td>14.000000</td>\n",
       "      <td>1016.000000</td>\n",
       "      <td>5.370000</td>\n",
       "      <td>0.000000</td>\n",
       "      <td>0.000000</td>\n",
       "    </tr>\n",
       "    <tr>\n",
       "      <th>75%</th>\n",
       "      <td>32868.250000</td>\n",
       "      <td>2013.000000</td>\n",
       "      <td>10.000000</td>\n",
       "      <td>23.000000</td>\n",
       "      <td>17.250000</td>\n",
       "      <td>137.000000</td>\n",
       "      <td>15.000000</td>\n",
       "      <td>23.000000</td>\n",
       "      <td>1025.000000</td>\n",
       "      <td>21.910000</td>\n",
       "      <td>0.000000</td>\n",
       "      <td>0.000000</td>\n",
       "    </tr>\n",
       "    <tr>\n",
       "      <th>max</th>\n",
       "      <td>43824.000000</td>\n",
       "      <td>2014.000000</td>\n",
       "      <td>12.000000</td>\n",
       "      <td>31.000000</td>\n",
       "      <td>23.000000</td>\n",
       "      <td>994.000000</td>\n",
       "      <td>28.000000</td>\n",
       "      <td>42.000000</td>\n",
       "      <td>1046.000000</td>\n",
       "      <td>585.600000</td>\n",
       "      <td>27.000000</td>\n",
       "      <td>36.000000</td>\n",
       "    </tr>\n",
       "  </tbody>\n",
       "</table>\n",
       "</div>"
      ],
      "text/plain": [
       "                 No          year         month           day          hour  \\\n",
       "count  43824.000000  43824.000000  43824.000000  43824.000000  43824.000000   \n",
       "mean   21912.500000   2012.000000      6.523549     15.727820     11.500000   \n",
       "std    12651.043435      1.413842      3.448572      8.799425      6.922266   \n",
       "min        1.000000   2010.000000      1.000000      1.000000      0.000000   \n",
       "25%    10956.750000   2011.000000      4.000000      8.000000      5.750000   \n",
       "50%    21912.500000   2012.000000      7.000000     16.000000     11.500000   \n",
       "75%    32868.250000   2013.000000     10.000000     23.000000     17.250000   \n",
       "max    43824.000000   2014.000000     12.000000     31.000000     23.000000   \n",
       "\n",
       "              pm2.5          DEWP          TEMP          PRES           Iws  \\\n",
       "count  41757.000000  43824.000000  43824.000000  43824.000000  43824.000000   \n",
       "mean      98.613215      1.817246     12.448521   1016.447654     23.889140   \n",
       "std       92.050387     14.433440     12.198613     10.268698     50.010635   \n",
       "min        0.000000    -40.000000    -19.000000    991.000000      0.450000   \n",
       "25%       29.000000    -10.000000      2.000000   1008.000000      1.790000   \n",
       "50%       72.000000      2.000000     14.000000   1016.000000      5.370000   \n",
       "75%      137.000000     15.000000     23.000000   1025.000000     21.910000   \n",
       "max      994.000000     28.000000     42.000000   1046.000000    585.600000   \n",
       "\n",
       "                 Is            Ir  \n",
       "count  43824.000000  43824.000000  \n",
       "mean       0.052734      0.194916  \n",
       "std        0.760375      1.415867  \n",
       "min        0.000000      0.000000  \n",
       "25%        0.000000      0.000000  \n",
       "50%        0.000000      0.000000  \n",
       "75%        0.000000      0.000000  \n",
       "max       27.000000     36.000000  "
      ]
     },
     "execution_count": 35,
     "metadata": {},
     "output_type": "execute_result"
    }
   ],
   "source": [
    "weather.describe()"
   ]
  },
  {
   "cell_type": "markdown",
   "id": "c2111558",
   "metadata": {},
   "source": [
    "."
   ]
  },
  {
   "cell_type": "markdown",
   "id": "4dea3db2",
   "metadata": {},
   "source": [
    "### Data Cleaning\n",
    "\n",
    "After assessing the data, I discovered some data quality issues in the dataset and the cleaning steps are documented below \n"
   ]
  },
  {
   "cell_type": "code",
   "execution_count": 36,
   "id": "f9721aa3",
   "metadata": {},
   "outputs": [],
   "source": [
    "# to create a copy of the dataset which is used to save the original\n",
    "weather_copy = weather.copy()"
   ]
  },
  {
   "cell_type": "markdown",
   "id": "c460daf3",
   "metadata": {},
   "source": [
    "- **To create a \"Date\" column using the year, month and day columns and change the Datatype to Datetime**"
   ]
  },
  {
   "cell_type": "code",
   "execution_count": 37,
   "id": "ffb5a79b",
   "metadata": {},
   "outputs": [
    {
     "name": "stdout",
     "output_type": "stream",
     "text": [
      "Index(['No', 'year', 'month', 'day', 'hour', 'date', 'pm2.5', 'DEWP', 'TEMP',\n",
      "       'PRES', 'cbwd', 'Iws', 'Is', 'Ir'],\n",
      "      dtype='object')\n",
      "   No  year  month  day  hour       date  pm2.5  DEWP  TEMP    PRES cbwd  \\\n",
      "0   1  2010      1    1     0 2010-01-01    NaN   -21 -11.0  1021.0   NW   \n",
      "1   2  2010      1    1     1 2010-01-01    NaN   -21 -12.0  1020.0   NW   \n",
      "2   3  2010      1    1     2 2010-01-01    NaN   -21 -11.0  1019.0   NW   \n",
      "3   4  2010      1    1     3 2010-01-01    NaN   -21 -14.0  1019.0   NW   \n",
      "4   5  2010      1    1     4 2010-01-01    NaN   -20 -12.0  1018.0   NW   \n",
      "\n",
      "     Iws  Is  Ir  \n",
      "0   1.79   0   0  \n",
      "1   4.92   0   0  \n",
      "2   6.71   0   0  \n",
      "3   9.84   0   0  \n",
      "4  12.97   0   0  \n"
     ]
    }
   ],
   "source": [
    "cols=[\"year\",\"month\",\"day\"]\n",
    "date = weather[cols].apply(lambda x: '-'.join(x.values.astype(str)), axis=\"columns\")\n",
    "\n",
    "# insert the data in the 5th column index\n",
    "weather.insert(5, 'date', date)\n",
    "\n",
    "#to change the datatype of the date column\n",
    "weather['date']=pd.to_datetime(weather['date'])\n",
    "\n",
    "\n",
    "# to check if the changes were made\n",
    "print(weather.columns)\n",
    "print(weather.head())"
   ]
  },
  {
   "cell_type": "markdown",
   "id": "a4396a0e",
   "metadata": {},
   "source": [
    "."
   ]
  },
  {
   "cell_type": "markdown",
   "id": "4e784a6a",
   "metadata": {},
   "source": [
    "- **Handle the Null values in the PM2.5 column**\n",
    "\n",
    "To first check how many null values are in the PM2.5 column"
   ]
  },
  {
   "cell_type": "code",
   "execution_count": 38,
   "id": "835775c2",
   "metadata": {},
   "outputs": [
    {
     "name": "stdout",
     "output_type": "stream",
     "text": [
      "There are 2067 null values in the pm2.5 column\n"
     ]
    }
   ],
   "source": [
    "null_values = weather['pm2.5'].isna().sum()\n",
    "\n",
    "print(f'There are {null_values} null values in the pm2.5 column')"
   ]
  },
  {
   "cell_type": "code",
   "execution_count": 39,
   "id": "8b419827",
   "metadata": {},
   "outputs": [
    {
     "data": {
      "text/html": [
       "<div>\n",
       "<style scoped>\n",
       "    .dataframe tbody tr th:only-of-type {\n",
       "        vertical-align: middle;\n",
       "    }\n",
       "\n",
       "    .dataframe tbody tr th {\n",
       "        vertical-align: top;\n",
       "    }\n",
       "\n",
       "    .dataframe thead th {\n",
       "        text-align: right;\n",
       "    }\n",
       "</style>\n",
       "<table border=\"1\" class=\"dataframe\">\n",
       "  <thead>\n",
       "    <tr style=\"text-align: right;\">\n",
       "      <th></th>\n",
       "      <th>No</th>\n",
       "      <th>year</th>\n",
       "      <th>month</th>\n",
       "      <th>day</th>\n",
       "      <th>hour</th>\n",
       "      <th>date</th>\n",
       "      <th>pm2.5</th>\n",
       "      <th>DEWP</th>\n",
       "      <th>TEMP</th>\n",
       "      <th>PRES</th>\n",
       "      <th>cbwd</th>\n",
       "      <th>Iws</th>\n",
       "      <th>Is</th>\n",
       "      <th>Ir</th>\n",
       "    </tr>\n",
       "  </thead>\n",
       "  <tbody>\n",
       "    <tr>\n",
       "      <th>0</th>\n",
       "      <td>1</td>\n",
       "      <td>2010</td>\n",
       "      <td>1</td>\n",
       "      <td>1</td>\n",
       "      <td>0</td>\n",
       "      <td>2010-01-01</td>\n",
       "      <td>NaN</td>\n",
       "      <td>-21</td>\n",
       "      <td>-11.0</td>\n",
       "      <td>1021.0</td>\n",
       "      <td>NW</td>\n",
       "      <td>1.79</td>\n",
       "      <td>0</td>\n",
       "      <td>0</td>\n",
       "    </tr>\n",
       "    <tr>\n",
       "      <th>1</th>\n",
       "      <td>2</td>\n",
       "      <td>2010</td>\n",
       "      <td>1</td>\n",
       "      <td>1</td>\n",
       "      <td>1</td>\n",
       "      <td>2010-01-01</td>\n",
       "      <td>NaN</td>\n",
       "      <td>-21</td>\n",
       "      <td>-12.0</td>\n",
       "      <td>1020.0</td>\n",
       "      <td>NW</td>\n",
       "      <td>4.92</td>\n",
       "      <td>0</td>\n",
       "      <td>0</td>\n",
       "    </tr>\n",
       "    <tr>\n",
       "      <th>2</th>\n",
       "      <td>3</td>\n",
       "      <td>2010</td>\n",
       "      <td>1</td>\n",
       "      <td>1</td>\n",
       "      <td>2</td>\n",
       "      <td>2010-01-01</td>\n",
       "      <td>NaN</td>\n",
       "      <td>-21</td>\n",
       "      <td>-11.0</td>\n",
       "      <td>1019.0</td>\n",
       "      <td>NW</td>\n",
       "      <td>6.71</td>\n",
       "      <td>0</td>\n",
       "      <td>0</td>\n",
       "    </tr>\n",
       "    <tr>\n",
       "      <th>3</th>\n",
       "      <td>4</td>\n",
       "      <td>2010</td>\n",
       "      <td>1</td>\n",
       "      <td>1</td>\n",
       "      <td>3</td>\n",
       "      <td>2010-01-01</td>\n",
       "      <td>NaN</td>\n",
       "      <td>-21</td>\n",
       "      <td>-14.0</td>\n",
       "      <td>1019.0</td>\n",
       "      <td>NW</td>\n",
       "      <td>9.84</td>\n",
       "      <td>0</td>\n",
       "      <td>0</td>\n",
       "    </tr>\n",
       "    <tr>\n",
       "      <th>4</th>\n",
       "      <td>5</td>\n",
       "      <td>2010</td>\n",
       "      <td>1</td>\n",
       "      <td>1</td>\n",
       "      <td>4</td>\n",
       "      <td>2010-01-01</td>\n",
       "      <td>NaN</td>\n",
       "      <td>-20</td>\n",
       "      <td>-12.0</td>\n",
       "      <td>1018.0</td>\n",
       "      <td>NW</td>\n",
       "      <td>12.97</td>\n",
       "      <td>0</td>\n",
       "      <td>0</td>\n",
       "    </tr>\n",
       "    <tr>\n",
       "      <th>...</th>\n",
       "      <td>...</td>\n",
       "      <td>...</td>\n",
       "      <td>...</td>\n",
       "      <td>...</td>\n",
       "      <td>...</td>\n",
       "      <td>...</td>\n",
       "      <td>...</td>\n",
       "      <td>...</td>\n",
       "      <td>...</td>\n",
       "      <td>...</td>\n",
       "      <td>...</td>\n",
       "      <td>...</td>\n",
       "      <td>...</td>\n",
       "      <td>...</td>\n",
       "    </tr>\n",
       "    <tr>\n",
       "      <th>43548</th>\n",
       "      <td>43549</td>\n",
       "      <td>2014</td>\n",
       "      <td>12</td>\n",
       "      <td>20</td>\n",
       "      <td>12</td>\n",
       "      <td>2014-12-20</td>\n",
       "      <td>NaN</td>\n",
       "      <td>-18</td>\n",
       "      <td>0.0</td>\n",
       "      <td>1030.0</td>\n",
       "      <td>NW</td>\n",
       "      <td>244.97</td>\n",
       "      <td>0</td>\n",
       "      <td>0</td>\n",
       "    </tr>\n",
       "    <tr>\n",
       "      <th>43549</th>\n",
       "      <td>43550</td>\n",
       "      <td>2014</td>\n",
       "      <td>12</td>\n",
       "      <td>20</td>\n",
       "      <td>13</td>\n",
       "      <td>2014-12-20</td>\n",
       "      <td>NaN</td>\n",
       "      <td>-19</td>\n",
       "      <td>1.0</td>\n",
       "      <td>1029.0</td>\n",
       "      <td>NW</td>\n",
       "      <td>249.89</td>\n",
       "      <td>0</td>\n",
       "      <td>0</td>\n",
       "    </tr>\n",
       "    <tr>\n",
       "      <th>43550</th>\n",
       "      <td>43551</td>\n",
       "      <td>2014</td>\n",
       "      <td>12</td>\n",
       "      <td>20</td>\n",
       "      <td>14</td>\n",
       "      <td>2014-12-20</td>\n",
       "      <td>NaN</td>\n",
       "      <td>-20</td>\n",
       "      <td>1.0</td>\n",
       "      <td>1029.0</td>\n",
       "      <td>NW</td>\n",
       "      <td>257.04</td>\n",
       "      <td>0</td>\n",
       "      <td>0</td>\n",
       "    </tr>\n",
       "    <tr>\n",
       "      <th>43551</th>\n",
       "      <td>43552</td>\n",
       "      <td>2014</td>\n",
       "      <td>12</td>\n",
       "      <td>20</td>\n",
       "      <td>15</td>\n",
       "      <td>2014-12-20</td>\n",
       "      <td>NaN</td>\n",
       "      <td>-20</td>\n",
       "      <td>2.0</td>\n",
       "      <td>1028.0</td>\n",
       "      <td>NW</td>\n",
       "      <td>262.85</td>\n",
       "      <td>0</td>\n",
       "      <td>0</td>\n",
       "    </tr>\n",
       "    <tr>\n",
       "      <th>43552</th>\n",
       "      <td>43553</td>\n",
       "      <td>2014</td>\n",
       "      <td>12</td>\n",
       "      <td>20</td>\n",
       "      <td>16</td>\n",
       "      <td>2014-12-20</td>\n",
       "      <td>NaN</td>\n",
       "      <td>-21</td>\n",
       "      <td>1.0</td>\n",
       "      <td>1028.0</td>\n",
       "      <td>NW</td>\n",
       "      <td>270.00</td>\n",
       "      <td>0</td>\n",
       "      <td>0</td>\n",
       "    </tr>\n",
       "  </tbody>\n",
       "</table>\n",
       "<p>2067 rows × 14 columns</p>\n",
       "</div>"
      ],
      "text/plain": [
       "          No  year  month  day  hour       date  pm2.5  DEWP  TEMP    PRES  \\\n",
       "0          1  2010      1    1     0 2010-01-01    NaN   -21 -11.0  1021.0   \n",
       "1          2  2010      1    1     1 2010-01-01    NaN   -21 -12.0  1020.0   \n",
       "2          3  2010      1    1     2 2010-01-01    NaN   -21 -11.0  1019.0   \n",
       "3          4  2010      1    1     3 2010-01-01    NaN   -21 -14.0  1019.0   \n",
       "4          5  2010      1    1     4 2010-01-01    NaN   -20 -12.0  1018.0   \n",
       "...      ...   ...    ...  ...   ...        ...    ...   ...   ...     ...   \n",
       "43548  43549  2014     12   20    12 2014-12-20    NaN   -18   0.0  1030.0   \n",
       "43549  43550  2014     12   20    13 2014-12-20    NaN   -19   1.0  1029.0   \n",
       "43550  43551  2014     12   20    14 2014-12-20    NaN   -20   1.0  1029.0   \n",
       "43551  43552  2014     12   20    15 2014-12-20    NaN   -20   2.0  1028.0   \n",
       "43552  43553  2014     12   20    16 2014-12-20    NaN   -21   1.0  1028.0   \n",
       "\n",
       "      cbwd     Iws  Is  Ir  \n",
       "0       NW    1.79   0   0  \n",
       "1       NW    4.92   0   0  \n",
       "2       NW    6.71   0   0  \n",
       "3       NW    9.84   0   0  \n",
       "4       NW   12.97   0   0  \n",
       "...    ...     ...  ..  ..  \n",
       "43548   NW  244.97   0   0  \n",
       "43549   NW  249.89   0   0  \n",
       "43550   NW  257.04   0   0  \n",
       "43551   NW  262.85   0   0  \n",
       "43552   NW  270.00   0   0  \n",
       "\n",
       "[2067 rows x 14 columns]"
      ]
     },
     "execution_count": 39,
     "metadata": {},
     "output_type": "execute_result"
    }
   ],
   "source": [
    "# to observe the rows of null values in pm2.5\n",
    "null = weather['pm2.5'].isna()\n",
    "\n",
    "weather[null]"
   ]
  },
  {
   "cell_type": "markdown",
   "id": "ae06f362",
   "metadata": {},
   "source": [
    "The null values would be replaced using Forward fill method and Backward fill for the remaining null values. There are other ways to handle null values which could be found in this article [Dealing With Missing Values in Python – A Complete Guide](https://www.analyticsvidhya.com/blog/2021/05/dealing-with-missing-values-in-python-a-complete-guide/)"
   ]
  },
  {
   "cell_type": "code",
   "execution_count": 40,
   "id": "9ab3837f",
   "metadata": {},
   "outputs": [],
   "source": [
    "# to replace the null values in the pm2.5 column with the forward fill methond and backward fill method\n",
    "weather['pm2.5'] = weather['pm2.5'].ffill().bfill()"
   ]
  },
  {
   "cell_type": "code",
   "execution_count": 41,
   "id": "85e6c01b",
   "metadata": {},
   "outputs": [
    {
     "name": "stdout",
     "output_type": "stream",
     "text": [
      "There are 0 null values in the pm2.5 column\n"
     ]
    }
   ],
   "source": [
    "# to check if the changes were made \n",
    "null_values = weather['pm2.5'].isna().sum()\n",
    "\n",
    "print(f'There are {null_values} null values in the pm2.5 column')"
   ]
  },
  {
   "cell_type": "markdown",
   "id": "80095c09",
   "metadata": {},
   "source": [
    "."
   ]
  },
  {
   "cell_type": "markdown",
   "id": "62c7450c",
   "metadata": {},
   "source": [
    "- **The presence of CV in the cbwd column**"
   ]
  },
  {
   "cell_type": "code",
   "execution_count": 42,
   "id": "23f970fe",
   "metadata": {},
   "outputs": [
    {
     "data": {
      "text/plain": [
       "array(['NW', 'cv', 'NE', 'SE'], dtype=object)"
      ]
     },
     "execution_count": 42,
     "metadata": {},
     "output_type": "execute_result"
    }
   ],
   "source": [
    "# to check the unique values in the cbwd column\n",
    "weather['cbwd'].unique()"
   ]
  },
  {
   "cell_type": "markdown",
   "id": "1eea73f5",
   "metadata": {},
   "source": [
    "According to [Windy,app](https://windy.app/blog/what-is-wind-direction.html#:~:text=In%20the%20beginning%2C%20there%20are,north%20and%20south%20poles%2C%20respectively.), There are four combined wind direction which are northeast (NE), southeast (NW), southwest (SW), and northwest (NW). I believe that 'cv' was a data entry error and it would be replaced with southwest (SW)."
   ]
  },
  {
   "cell_type": "code",
   "execution_count": 43,
   "id": "7bb7ed12",
   "metadata": {},
   "outputs": [
    {
     "data": {
      "text/plain": [
       "array(['NW', 'SW', 'NE', 'SE'], dtype=object)"
      ]
     },
     "execution_count": 43,
     "metadata": {},
     "output_type": "execute_result"
    }
   ],
   "source": [
    "# to change cv to SW in the cbwd column\n",
    "weather['cbwd'].replace(to_replace=\"cv\",\n",
    "           value=\"SW\", inplace = True)\n",
    "\n",
    "#to check if the change was made\n",
    "weather['cbwd'].unique()"
   ]
  },
  {
   "cell_type": "markdown",
   "id": "20929709",
   "metadata": {},
   "source": [
    "."
   ]
  },
  {
   "cell_type": "markdown",
   "id": "52364f13",
   "metadata": {},
   "source": [
    "- **Converting the unit of Pressure from hPa to atm (SI unit of atmospheric pressure)**\n",
    "\n",
    "The PRES column which is the pressure of the atmosphere is in hPa units (Hectopascal). This would be convert to atm which is the standard unit for measuring pressure. According to [Unit Converter](https://www.unitconverters.net/pressure/hectopascal-to-standard-atmosphere.htm), `1hPa = 0.000987 atm`\n",
    "\n",
    "This would be used to perform the conversion"
   ]
  },
  {
   "cell_type": "code",
   "execution_count": 44,
   "id": "1bebc83c",
   "metadata": {},
   "outputs": [
    {
     "name": "stdout",
     "output_type": "stream",
     "text": [
      "Index(['No', 'year', 'month', 'day', 'hour', 'date', 'pm2.5', 'DEWP', 'TEMP',\n",
      "       'PRES', 'atm_pressure', 'cbwd', 'Iws', 'Is', 'Ir'],\n",
      "      dtype='object')\n",
      "   No  year  month  day  hour       date  pm2.5  DEWP  TEMP    PRES  \\\n",
      "0   1  2010      1    1     0 2010-01-01  129.0   -21 -11.0  1021.0   \n",
      "1   2  2010      1    1     1 2010-01-01  129.0   -21 -12.0  1020.0   \n",
      "2   3  2010      1    1     2 2010-01-01  129.0   -21 -11.0  1019.0   \n",
      "3   4  2010      1    1     3 2010-01-01  129.0   -21 -14.0  1019.0   \n",
      "4   5  2010      1    1     4 2010-01-01  129.0   -20 -12.0  1018.0   \n",
      "\n",
      "   atm_pressure cbwd    Iws  Is  Ir  \n",
      "0      1.007727   NW   1.79   0   0  \n",
      "1      1.006740   NW   4.92   0   0  \n",
      "2      1.005753   NW   6.71   0   0  \n",
      "3      1.005753   NW   9.84   0   0  \n",
      "4      1.004766   NW  12.97   0   0  \n"
     ]
    }
   ],
   "source": [
    "# to carry out the conversion\n",
    "pressure = weather['PRES'] * 0.000987\n",
    "\n",
    "weather.insert(10, 'atm_pressure', pressure)\n",
    "\n",
    "# to check if it worked\n",
    "print(weather.columns)\n",
    "print(weather.head())"
   ]
  },
  {
   "cell_type": "markdown",
   "id": "8563f7c6",
   "metadata": {},
   "source": [
    "."
   ]
  },
  {
   "cell_type": "markdown",
   "id": "cba88b0e",
   "metadata": {},
   "source": [
    "- **Grouping the months into season**\n",
    "\n",
    "There are four seasons which \n",
    "- Autumn (September - November)\n",
    "- Spring (March - May)\n",
    "- Summer (June - August)\n",
    "- Winter (December - February)\n",
    "\n",
    "So for this data cleaning step, I had to Create a function to convert a month number to the season"
   ]
  },
  {
   "cell_type": "code",
   "execution_count": 45,
   "id": "94500485",
   "metadata": {},
   "outputs": [],
   "source": [
    "# to convert from month number to season\n",
    "def find_season(month):\n",
    "    season_month = {\n",
    "        12:'Winter', 1:'Winter', 2:'Winter',\n",
    "        3:'Spring', 4:'Spring', 5:'Spring',\n",
    "        6:'Summer', 7:'Summer', 8:'Summer',\n",
    "        9:'Autumn', 10:'Autumn', 11:'Autumn'}\n",
    "    return season_month.get(month)\n",
    "\n",
    "season_list = []\n",
    "for month in weather['month']:\n",
    "    season = find_season(month)\n",
    "    season_list.append(season)\n",
    "    \n",
    "weather['Season'] = season_list"
   ]
  },
  {
   "cell_type": "code",
   "execution_count": 46,
   "id": "cb959a8f",
   "metadata": {},
   "outputs": [
    {
     "data": {
      "text/html": [
       "<div>\n",
       "<style scoped>\n",
       "    .dataframe tbody tr th:only-of-type {\n",
       "        vertical-align: middle;\n",
       "    }\n",
       "\n",
       "    .dataframe tbody tr th {\n",
       "        vertical-align: top;\n",
       "    }\n",
       "\n",
       "    .dataframe thead th {\n",
       "        text-align: right;\n",
       "    }\n",
       "</style>\n",
       "<table border=\"1\" class=\"dataframe\">\n",
       "  <thead>\n",
       "    <tr style=\"text-align: right;\">\n",
       "      <th></th>\n",
       "      <th>No</th>\n",
       "      <th>year</th>\n",
       "      <th>month</th>\n",
       "      <th>day</th>\n",
       "      <th>hour</th>\n",
       "      <th>date</th>\n",
       "      <th>pm2.5</th>\n",
       "      <th>DEWP</th>\n",
       "      <th>TEMP</th>\n",
       "      <th>PRES</th>\n",
       "      <th>atm_pressure</th>\n",
       "      <th>cbwd</th>\n",
       "      <th>Iws</th>\n",
       "      <th>Is</th>\n",
       "      <th>Ir</th>\n",
       "      <th>Season</th>\n",
       "    </tr>\n",
       "  </thead>\n",
       "  <tbody>\n",
       "    <tr>\n",
       "      <th>0</th>\n",
       "      <td>1</td>\n",
       "      <td>2010</td>\n",
       "      <td>1</td>\n",
       "      <td>1</td>\n",
       "      <td>0</td>\n",
       "      <td>2010-01-01</td>\n",
       "      <td>129.0</td>\n",
       "      <td>-21</td>\n",
       "      <td>-11.0</td>\n",
       "      <td>1021.0</td>\n",
       "      <td>1.007727</td>\n",
       "      <td>NW</td>\n",
       "      <td>1.79</td>\n",
       "      <td>0</td>\n",
       "      <td>0</td>\n",
       "      <td>Winter</td>\n",
       "    </tr>\n",
       "    <tr>\n",
       "      <th>1</th>\n",
       "      <td>2</td>\n",
       "      <td>2010</td>\n",
       "      <td>1</td>\n",
       "      <td>1</td>\n",
       "      <td>1</td>\n",
       "      <td>2010-01-01</td>\n",
       "      <td>129.0</td>\n",
       "      <td>-21</td>\n",
       "      <td>-12.0</td>\n",
       "      <td>1020.0</td>\n",
       "      <td>1.006740</td>\n",
       "      <td>NW</td>\n",
       "      <td>4.92</td>\n",
       "      <td>0</td>\n",
       "      <td>0</td>\n",
       "      <td>Winter</td>\n",
       "    </tr>\n",
       "    <tr>\n",
       "      <th>2</th>\n",
       "      <td>3</td>\n",
       "      <td>2010</td>\n",
       "      <td>1</td>\n",
       "      <td>1</td>\n",
       "      <td>2</td>\n",
       "      <td>2010-01-01</td>\n",
       "      <td>129.0</td>\n",
       "      <td>-21</td>\n",
       "      <td>-11.0</td>\n",
       "      <td>1019.0</td>\n",
       "      <td>1.005753</td>\n",
       "      <td>NW</td>\n",
       "      <td>6.71</td>\n",
       "      <td>0</td>\n",
       "      <td>0</td>\n",
       "      <td>Winter</td>\n",
       "    </tr>\n",
       "    <tr>\n",
       "      <th>3</th>\n",
       "      <td>4</td>\n",
       "      <td>2010</td>\n",
       "      <td>1</td>\n",
       "      <td>1</td>\n",
       "      <td>3</td>\n",
       "      <td>2010-01-01</td>\n",
       "      <td>129.0</td>\n",
       "      <td>-21</td>\n",
       "      <td>-14.0</td>\n",
       "      <td>1019.0</td>\n",
       "      <td>1.005753</td>\n",
       "      <td>NW</td>\n",
       "      <td>9.84</td>\n",
       "      <td>0</td>\n",
       "      <td>0</td>\n",
       "      <td>Winter</td>\n",
       "    </tr>\n",
       "    <tr>\n",
       "      <th>4</th>\n",
       "      <td>5</td>\n",
       "      <td>2010</td>\n",
       "      <td>1</td>\n",
       "      <td>1</td>\n",
       "      <td>4</td>\n",
       "      <td>2010-01-01</td>\n",
       "      <td>129.0</td>\n",
       "      <td>-20</td>\n",
       "      <td>-12.0</td>\n",
       "      <td>1018.0</td>\n",
       "      <td>1.004766</td>\n",
       "      <td>NW</td>\n",
       "      <td>12.97</td>\n",
       "      <td>0</td>\n",
       "      <td>0</td>\n",
       "      <td>Winter</td>\n",
       "    </tr>\n",
       "  </tbody>\n",
       "</table>\n",
       "</div>"
      ],
      "text/plain": [
       "   No  year  month  day  hour       date  pm2.5  DEWP  TEMP    PRES  \\\n",
       "0   1  2010      1    1     0 2010-01-01  129.0   -21 -11.0  1021.0   \n",
       "1   2  2010      1    1     1 2010-01-01  129.0   -21 -12.0  1020.0   \n",
       "2   3  2010      1    1     2 2010-01-01  129.0   -21 -11.0  1019.0   \n",
       "3   4  2010      1    1     3 2010-01-01  129.0   -21 -14.0  1019.0   \n",
       "4   5  2010      1    1     4 2010-01-01  129.0   -20 -12.0  1018.0   \n",
       "\n",
       "   atm_pressure cbwd    Iws  Is  Ir  Season  \n",
       "0      1.007727   NW   1.79   0   0  Winter  \n",
       "1      1.006740   NW   4.92   0   0  Winter  \n",
       "2      1.005753   NW   6.71   0   0  Winter  \n",
       "3      1.005753   NW   9.84   0   0  Winter  \n",
       "4      1.004766   NW  12.97   0   0  Winter  "
      ]
     },
     "execution_count": 46,
     "metadata": {},
     "output_type": "execute_result"
    }
   ],
   "source": [
    "# to check if it worked\n",
    "weather.head()"
   ]
  },
  {
   "cell_type": "markdown",
   "id": "0fa3fc18",
   "metadata": {},
   "source": [
    "."
   ]
  },
  {
   "cell_type": "markdown",
   "id": "c90d0de2",
   "metadata": {},
   "source": [
    "- **To extract the month name from the month number**"
   ]
  },
  {
   "cell_type": "code",
   "execution_count": 47,
   "id": "c76c2280",
   "metadata": {},
   "outputs": [
    {
     "data": {
      "text/plain": [
       "array(['Jan', 'Feb', 'Mar', 'Apr', 'May', 'Jun', 'Jul', 'Aug', 'Sep',\n",
       "       'Oct', 'Nov', 'Dec'], dtype=object)"
      ]
     },
     "execution_count": 47,
     "metadata": {},
     "output_type": "execute_result"
    }
   ],
   "source": [
    "# to convert month number to month name \n",
    "weather['month_name'] = weather['month'].apply(lambda x: calendar.month_abbr[x])\n",
    "\n",
    "\n",
    "# to check if it worked\n",
    "weather['month_name'].unique()"
   ]
  },
  {
   "cell_type": "markdown",
   "id": "e4c5f543",
   "metadata": {},
   "source": [
    "."
   ]
  },
  {
   "cell_type": "markdown",
   "id": "9fdd6ceb",
   "metadata": {},
   "source": [
    "- **Dropping the first column**\n",
    "\n",
    "The first column doesnt have any use case in the anakysis so the column would be dropped"
   ]
  },
  {
   "cell_type": "code",
   "execution_count": 48,
   "id": "d6e42fd8",
   "metadata": {},
   "outputs": [
    {
     "data": {
      "text/plain": [
       "Index(['year', 'month', 'day', 'hour', 'date', 'pm2.5', 'DEWP', 'TEMP', 'PRES',\n",
       "       'atm_pressure', 'cbwd', 'Iws', 'Is', 'Ir', 'Season', 'month_name'],\n",
       "      dtype='object')"
      ]
     },
     "execution_count": 48,
     "metadata": {},
     "output_type": "execute_result"
    }
   ],
   "source": [
    "# dropping the 'No' column\n",
    "weather = weather.drop('No', axis=1)\n",
    "\n",
    "# to check if it worked \n",
    "weather.columns"
   ]
  },
  {
   "cell_type": "markdown",
   "id": "0f47c296",
   "metadata": {},
   "source": [
    "To save the cleaned dataframe to a different file"
   ]
  },
  {
   "cell_type": "code",
   "execution_count": 49,
   "id": "6c03ccdd",
   "metadata": {},
   "outputs": [],
   "source": [
    "weather.to_csv('cleaned_weather.csv')"
   ]
  },
  {
   "cell_type": "markdown",
   "id": "964ab185",
   "metadata": {},
   "source": [
    "."
   ]
  }
 ],
 "metadata": {
  "kernelspec": {
   "display_name": "Python 3 (ipykernel)",
   "language": "python",
   "name": "python3"
  },
  "language_info": {
   "codemirror_mode": {
    "name": "ipython",
    "version": 3
   },
   "file_extension": ".py",
   "mimetype": "text/x-python",
   "name": "python",
   "nbconvert_exporter": "python",
   "pygments_lexer": "ipython3",
   "version": "3.9.7"
  }
 },
 "nbformat": 4,
 "nbformat_minor": 5
}
